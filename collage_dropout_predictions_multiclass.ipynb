{
  "nbformat": 4,
  "nbformat_minor": 0,
  "metadata": {
    "colab": {
      "provenance": [],
      "authorship_tag": "ABX9TyM3nbfcyYnR9r4hkG5e9ppe",
      "include_colab_link": true
    },
    "kernelspec": {
      "name": "python3",
      "display_name": "Python 3"
    },
    "language_info": {
      "name": "python"
    }
  },
  "cells": [
    {
      "cell_type": "markdown",
      "metadata": {
        "id": "view-in-github",
        "colab_type": "text"
      },
      "source": [
        "<a href=\"https://colab.research.google.com/github/gabrielnichio/multiclass-prediction/blob/main/collage_dropout_predictions_multiclass.ipynb\" target=\"_parent\"><img src=\"https://colab.research.google.com/assets/colab-badge.svg\" alt=\"Open In Colab\"/></a>"
      ]
    },
    {
      "cell_type": "code",
      "execution_count": 52,
      "metadata": {
        "id": "TIhXB88aPTFY"
      },
      "outputs": [],
      "source": [
        "import pandas as pd\n",
        "import numpy as np\n",
        "from sklearn.preprocessing import OneHotEncoder, LabelEncoder\n",
        "from sklearn.compose import make_column_transformer"
      ]
    },
    {
      "cell_type": "code",
      "source": [
        "data = pd.read_csv(\"/content/dados_estudantes.csv\")\n",
        "data.head()"
      ],
      "metadata": {
        "colab": {
          "base_uri": "https://localhost:8080/",
          "height": 308
        },
        "id": "2PlRo35aPpNw",
        "outputId": "220ad905-57d8-4581-b170-7a37ba2000a6"
      },
      "execution_count": 53,
      "outputs": [
        {
          "output_type": "execute_result",
          "data": {
            "text/plain": [
              "  Estado civil Migração       Sexo  Idade na matrícula Estrangeiro  \\\n",
              "0     Solteiro      Sim  Masculino                  20         Não   \n",
              "1     Solteiro      Sim  Masculino                  19         Não   \n",
              "2     Solteiro      Sim  Masculino                  19         Não   \n",
              "3     Solteiro      Sim   Feminino                  20         Não   \n",
              "4       Casado      Não   Feminino                  45         Não   \n",
              "\n",
              "  Necessidades educacionais especiais Devedor Taxas de matrícula em dia  \\\n",
              "0                                 Não     Não                       Sim   \n",
              "1                                 Não     Não                       Não   \n",
              "2                                 Não     Não                       Não   \n",
              "3                                 Não     Não                       Sim   \n",
              "4                                 Não     Não                       Sim   \n",
              "\n",
              "  Bolsista  Taxa de desemprego  ...  disciplinas 1º semestre (aprovadas)  \\\n",
              "0      Não                10.8  ...                                    0   \n",
              "1      Não                13.9  ...                                    6   \n",
              "2      Não                10.8  ...                                    0   \n",
              "3      Não                 9.4  ...                                    6   \n",
              "4      Não                13.9  ...                                    5   \n",
              "\n",
              "   disciplinas 1º semestre (notas) disciplinas 1º semestre (sem avaliações)  \\\n",
              "0                         0.000000                                        0   \n",
              "1                        14.000000                                        0   \n",
              "2                         0.000000                                        0   \n",
              "3                        13.428571                                        0   \n",
              "4                        12.333333                                        0   \n",
              "\n",
              "  disciplinas 2º semestre (creditadas) disciplinas 2º semestre (matriculadas)  \\\n",
              "0                                    0                                      0   \n",
              "1                                    0                                      6   \n",
              "2                                    0                                      6   \n",
              "3                                    0                                      6   \n",
              "4                                    0                                      6   \n",
              "\n",
              "   disciplinas 2º semestre (avaliações)  disciplinas 2º semestre (aprovadas)  \\\n",
              "0                                     0                                    0   \n",
              "1                                     6                                    6   \n",
              "2                                     0                                    0   \n",
              "3                                    10                                    5   \n",
              "4                                     6                                    6   \n",
              "\n",
              "   disciplinas 2º semestre (notas)  disciplinas 2º semestre (sem avaliações)  \\\n",
              "0                         0.000000                                         0   \n",
              "1                        13.666667                                         0   \n",
              "2                         0.000000                                         0   \n",
              "3                        12.400000                                         0   \n",
              "4                        13.000000                                         0   \n",
              "\n",
              "       Target  \n",
              "0  Desistente  \n",
              "1    Graduado  \n",
              "2  Desistente  \n",
              "3    Graduado  \n",
              "4    Graduado  \n",
              "\n",
              "[5 rows x 28 columns]"
            ],
            "text/html": [
              "\n",
              "  <div id=\"df-5497aacc-221d-4501-95f1-386b261bc195\" class=\"colab-df-container\">\n",
              "    <div>\n",
              "<style scoped>\n",
              "    .dataframe tbody tr th:only-of-type {\n",
              "        vertical-align: middle;\n",
              "    }\n",
              "\n",
              "    .dataframe tbody tr th {\n",
              "        vertical-align: top;\n",
              "    }\n",
              "\n",
              "    .dataframe thead th {\n",
              "        text-align: right;\n",
              "    }\n",
              "</style>\n",
              "<table border=\"1\" class=\"dataframe\">\n",
              "  <thead>\n",
              "    <tr style=\"text-align: right;\">\n",
              "      <th></th>\n",
              "      <th>Estado civil</th>\n",
              "      <th>Migração</th>\n",
              "      <th>Sexo</th>\n",
              "      <th>Idade na matrícula</th>\n",
              "      <th>Estrangeiro</th>\n",
              "      <th>Necessidades educacionais especiais</th>\n",
              "      <th>Devedor</th>\n",
              "      <th>Taxas de matrícula em dia</th>\n",
              "      <th>Bolsista</th>\n",
              "      <th>Taxa de desemprego</th>\n",
              "      <th>...</th>\n",
              "      <th>disciplinas 1º semestre (aprovadas)</th>\n",
              "      <th>disciplinas 1º semestre (notas)</th>\n",
              "      <th>disciplinas 1º semestre (sem avaliações)</th>\n",
              "      <th>disciplinas 2º semestre (creditadas)</th>\n",
              "      <th>disciplinas 2º semestre (matriculadas)</th>\n",
              "      <th>disciplinas 2º semestre (avaliações)</th>\n",
              "      <th>disciplinas 2º semestre (aprovadas)</th>\n",
              "      <th>disciplinas 2º semestre (notas)</th>\n",
              "      <th>disciplinas 2º semestre (sem avaliações)</th>\n",
              "      <th>Target</th>\n",
              "    </tr>\n",
              "  </thead>\n",
              "  <tbody>\n",
              "    <tr>\n",
              "      <th>0</th>\n",
              "      <td>Solteiro</td>\n",
              "      <td>Sim</td>\n",
              "      <td>Masculino</td>\n",
              "      <td>20</td>\n",
              "      <td>Não</td>\n",
              "      <td>Não</td>\n",
              "      <td>Não</td>\n",
              "      <td>Sim</td>\n",
              "      <td>Não</td>\n",
              "      <td>10.8</td>\n",
              "      <td>...</td>\n",
              "      <td>0</td>\n",
              "      <td>0.000000</td>\n",
              "      <td>0</td>\n",
              "      <td>0</td>\n",
              "      <td>0</td>\n",
              "      <td>0</td>\n",
              "      <td>0</td>\n",
              "      <td>0.000000</td>\n",
              "      <td>0</td>\n",
              "      <td>Desistente</td>\n",
              "    </tr>\n",
              "    <tr>\n",
              "      <th>1</th>\n",
              "      <td>Solteiro</td>\n",
              "      <td>Sim</td>\n",
              "      <td>Masculino</td>\n",
              "      <td>19</td>\n",
              "      <td>Não</td>\n",
              "      <td>Não</td>\n",
              "      <td>Não</td>\n",
              "      <td>Não</td>\n",
              "      <td>Não</td>\n",
              "      <td>13.9</td>\n",
              "      <td>...</td>\n",
              "      <td>6</td>\n",
              "      <td>14.000000</td>\n",
              "      <td>0</td>\n",
              "      <td>0</td>\n",
              "      <td>6</td>\n",
              "      <td>6</td>\n",
              "      <td>6</td>\n",
              "      <td>13.666667</td>\n",
              "      <td>0</td>\n",
              "      <td>Graduado</td>\n",
              "    </tr>\n",
              "    <tr>\n",
              "      <th>2</th>\n",
              "      <td>Solteiro</td>\n",
              "      <td>Sim</td>\n",
              "      <td>Masculino</td>\n",
              "      <td>19</td>\n",
              "      <td>Não</td>\n",
              "      <td>Não</td>\n",
              "      <td>Não</td>\n",
              "      <td>Não</td>\n",
              "      <td>Não</td>\n",
              "      <td>10.8</td>\n",
              "      <td>...</td>\n",
              "      <td>0</td>\n",
              "      <td>0.000000</td>\n",
              "      <td>0</td>\n",
              "      <td>0</td>\n",
              "      <td>6</td>\n",
              "      <td>0</td>\n",
              "      <td>0</td>\n",
              "      <td>0.000000</td>\n",
              "      <td>0</td>\n",
              "      <td>Desistente</td>\n",
              "    </tr>\n",
              "    <tr>\n",
              "      <th>3</th>\n",
              "      <td>Solteiro</td>\n",
              "      <td>Sim</td>\n",
              "      <td>Feminino</td>\n",
              "      <td>20</td>\n",
              "      <td>Não</td>\n",
              "      <td>Não</td>\n",
              "      <td>Não</td>\n",
              "      <td>Sim</td>\n",
              "      <td>Não</td>\n",
              "      <td>9.4</td>\n",
              "      <td>...</td>\n",
              "      <td>6</td>\n",
              "      <td>13.428571</td>\n",
              "      <td>0</td>\n",
              "      <td>0</td>\n",
              "      <td>6</td>\n",
              "      <td>10</td>\n",
              "      <td>5</td>\n",
              "      <td>12.400000</td>\n",
              "      <td>0</td>\n",
              "      <td>Graduado</td>\n",
              "    </tr>\n",
              "    <tr>\n",
              "      <th>4</th>\n",
              "      <td>Casado</td>\n",
              "      <td>Não</td>\n",
              "      <td>Feminino</td>\n",
              "      <td>45</td>\n",
              "      <td>Não</td>\n",
              "      <td>Não</td>\n",
              "      <td>Não</td>\n",
              "      <td>Sim</td>\n",
              "      <td>Não</td>\n",
              "      <td>13.9</td>\n",
              "      <td>...</td>\n",
              "      <td>5</td>\n",
              "      <td>12.333333</td>\n",
              "      <td>0</td>\n",
              "      <td>0</td>\n",
              "      <td>6</td>\n",
              "      <td>6</td>\n",
              "      <td>6</td>\n",
              "      <td>13.000000</td>\n",
              "      <td>0</td>\n",
              "      <td>Graduado</td>\n",
              "    </tr>\n",
              "  </tbody>\n",
              "</table>\n",
              "<p>5 rows × 28 columns</p>\n",
              "</div>\n",
              "    <div class=\"colab-df-buttons\">\n",
              "\n",
              "  <div class=\"colab-df-container\">\n",
              "    <button class=\"colab-df-convert\" onclick=\"convertToInteractive('df-5497aacc-221d-4501-95f1-386b261bc195')\"\n",
              "            title=\"Convert this dataframe to an interactive table.\"\n",
              "            style=\"display:none;\">\n",
              "\n",
              "  <svg xmlns=\"http://www.w3.org/2000/svg\" height=\"24px\" viewBox=\"0 -960 960 960\">\n",
              "    <path d=\"M120-120v-720h720v720H120Zm60-500h600v-160H180v160Zm220 220h160v-160H400v160Zm0 220h160v-160H400v160ZM180-400h160v-160H180v160Zm440 0h160v-160H620v160ZM180-180h160v-160H180v160Zm440 0h160v-160H620v160Z\"/>\n",
              "  </svg>\n",
              "    </button>\n",
              "\n",
              "  <style>\n",
              "    .colab-df-container {\n",
              "      display:flex;\n",
              "      gap: 12px;\n",
              "    }\n",
              "\n",
              "    .colab-df-convert {\n",
              "      background-color: #E8F0FE;\n",
              "      border: none;\n",
              "      border-radius: 50%;\n",
              "      cursor: pointer;\n",
              "      display: none;\n",
              "      fill: #1967D2;\n",
              "      height: 32px;\n",
              "      padding: 0 0 0 0;\n",
              "      width: 32px;\n",
              "    }\n",
              "\n",
              "    .colab-df-convert:hover {\n",
              "      background-color: #E2EBFA;\n",
              "      box-shadow: 0px 1px 2px rgba(60, 64, 67, 0.3), 0px 1px 3px 1px rgba(60, 64, 67, 0.15);\n",
              "      fill: #174EA6;\n",
              "    }\n",
              "\n",
              "    .colab-df-buttons div {\n",
              "      margin-bottom: 4px;\n",
              "    }\n",
              "\n",
              "    [theme=dark] .colab-df-convert {\n",
              "      background-color: #3B4455;\n",
              "      fill: #D2E3FC;\n",
              "    }\n",
              "\n",
              "    [theme=dark] .colab-df-convert:hover {\n",
              "      background-color: #434B5C;\n",
              "      box-shadow: 0px 1px 3px 1px rgba(0, 0, 0, 0.15);\n",
              "      filter: drop-shadow(0px 1px 2px rgba(0, 0, 0, 0.3));\n",
              "      fill: #FFFFFF;\n",
              "    }\n",
              "  </style>\n",
              "\n",
              "    <script>\n",
              "      const buttonEl =\n",
              "        document.querySelector('#df-5497aacc-221d-4501-95f1-386b261bc195 button.colab-df-convert');\n",
              "      buttonEl.style.display =\n",
              "        google.colab.kernel.accessAllowed ? 'block' : 'none';\n",
              "\n",
              "      async function convertToInteractive(key) {\n",
              "        const element = document.querySelector('#df-5497aacc-221d-4501-95f1-386b261bc195');\n",
              "        const dataTable =\n",
              "          await google.colab.kernel.invokeFunction('convertToInteractive',\n",
              "                                                    [key], {});\n",
              "        if (!dataTable) return;\n",
              "\n",
              "        const docLinkHtml = 'Like what you see? Visit the ' +\n",
              "          '<a target=\"_blank\" href=https://colab.research.google.com/notebooks/data_table.ipynb>data table notebook</a>'\n",
              "          + ' to learn more about interactive tables.';\n",
              "        element.innerHTML = '';\n",
              "        dataTable['output_type'] = 'display_data';\n",
              "        await google.colab.output.renderOutput(dataTable, element);\n",
              "        const docLink = document.createElement('div');\n",
              "        docLink.innerHTML = docLinkHtml;\n",
              "        element.appendChild(docLink);\n",
              "      }\n",
              "    </script>\n",
              "  </div>\n",
              "\n",
              "\n",
              "<div id=\"df-812eb0a0-a6eb-4829-86b8-844a94724ac1\">\n",
              "  <button class=\"colab-df-quickchart\" onclick=\"quickchart('df-812eb0a0-a6eb-4829-86b8-844a94724ac1')\"\n",
              "            title=\"Suggest charts\"\n",
              "            style=\"display:none;\">\n",
              "\n",
              "<svg xmlns=\"http://www.w3.org/2000/svg\" height=\"24px\"viewBox=\"0 0 24 24\"\n",
              "     width=\"24px\">\n",
              "    <g>\n",
              "        <path d=\"M19 3H5c-1.1 0-2 .9-2 2v14c0 1.1.9 2 2 2h14c1.1 0 2-.9 2-2V5c0-1.1-.9-2-2-2zM9 17H7v-7h2v7zm4 0h-2V7h2v10zm4 0h-2v-4h2v4z\"/>\n",
              "    </g>\n",
              "</svg>\n",
              "  </button>\n",
              "\n",
              "<style>\n",
              "  .colab-df-quickchart {\n",
              "      --bg-color: #E8F0FE;\n",
              "      --fill-color: #1967D2;\n",
              "      --hover-bg-color: #E2EBFA;\n",
              "      --hover-fill-color: #174EA6;\n",
              "      --disabled-fill-color: #AAA;\n",
              "      --disabled-bg-color: #DDD;\n",
              "  }\n",
              "\n",
              "  [theme=dark] .colab-df-quickchart {\n",
              "      --bg-color: #3B4455;\n",
              "      --fill-color: #D2E3FC;\n",
              "      --hover-bg-color: #434B5C;\n",
              "      --hover-fill-color: #FFFFFF;\n",
              "      --disabled-bg-color: #3B4455;\n",
              "      --disabled-fill-color: #666;\n",
              "  }\n",
              "\n",
              "  .colab-df-quickchart {\n",
              "    background-color: var(--bg-color);\n",
              "    border: none;\n",
              "    border-radius: 50%;\n",
              "    cursor: pointer;\n",
              "    display: none;\n",
              "    fill: var(--fill-color);\n",
              "    height: 32px;\n",
              "    padding: 0;\n",
              "    width: 32px;\n",
              "  }\n",
              "\n",
              "  .colab-df-quickchart:hover {\n",
              "    background-color: var(--hover-bg-color);\n",
              "    box-shadow: 0 1px 2px rgba(60, 64, 67, 0.3), 0 1px 3px 1px rgba(60, 64, 67, 0.15);\n",
              "    fill: var(--button-hover-fill-color);\n",
              "  }\n",
              "\n",
              "  .colab-df-quickchart-complete:disabled,\n",
              "  .colab-df-quickchart-complete:disabled:hover {\n",
              "    background-color: var(--disabled-bg-color);\n",
              "    fill: var(--disabled-fill-color);\n",
              "    box-shadow: none;\n",
              "  }\n",
              "\n",
              "  .colab-df-spinner {\n",
              "    border: 2px solid var(--fill-color);\n",
              "    border-color: transparent;\n",
              "    border-bottom-color: var(--fill-color);\n",
              "    animation:\n",
              "      spin 1s steps(1) infinite;\n",
              "  }\n",
              "\n",
              "  @keyframes spin {\n",
              "    0% {\n",
              "      border-color: transparent;\n",
              "      border-bottom-color: var(--fill-color);\n",
              "      border-left-color: var(--fill-color);\n",
              "    }\n",
              "    20% {\n",
              "      border-color: transparent;\n",
              "      border-left-color: var(--fill-color);\n",
              "      border-top-color: var(--fill-color);\n",
              "    }\n",
              "    30% {\n",
              "      border-color: transparent;\n",
              "      border-left-color: var(--fill-color);\n",
              "      border-top-color: var(--fill-color);\n",
              "      border-right-color: var(--fill-color);\n",
              "    }\n",
              "    40% {\n",
              "      border-color: transparent;\n",
              "      border-right-color: var(--fill-color);\n",
              "      border-top-color: var(--fill-color);\n",
              "    }\n",
              "    60% {\n",
              "      border-color: transparent;\n",
              "      border-right-color: var(--fill-color);\n",
              "    }\n",
              "    80% {\n",
              "      border-color: transparent;\n",
              "      border-right-color: var(--fill-color);\n",
              "      border-bottom-color: var(--fill-color);\n",
              "    }\n",
              "    90% {\n",
              "      border-color: transparent;\n",
              "      border-bottom-color: var(--fill-color);\n",
              "    }\n",
              "  }\n",
              "</style>\n",
              "\n",
              "  <script>\n",
              "    async function quickchart(key) {\n",
              "      const quickchartButtonEl =\n",
              "        document.querySelector('#' + key + ' button');\n",
              "      quickchartButtonEl.disabled = true;  // To prevent multiple clicks.\n",
              "      quickchartButtonEl.classList.add('colab-df-spinner');\n",
              "      try {\n",
              "        const charts = await google.colab.kernel.invokeFunction(\n",
              "            'suggestCharts', [key], {});\n",
              "      } catch (error) {\n",
              "        console.error('Error during call to suggestCharts:', error);\n",
              "      }\n",
              "      quickchartButtonEl.classList.remove('colab-df-spinner');\n",
              "      quickchartButtonEl.classList.add('colab-df-quickchart-complete');\n",
              "    }\n",
              "    (() => {\n",
              "      let quickchartButtonEl =\n",
              "        document.querySelector('#df-812eb0a0-a6eb-4829-86b8-844a94724ac1 button');\n",
              "      quickchartButtonEl.style.display =\n",
              "        google.colab.kernel.accessAllowed ? 'block' : 'none';\n",
              "    })();\n",
              "  </script>\n",
              "</div>\n",
              "\n",
              "    </div>\n",
              "  </div>\n"
            ],
            "application/vnd.google.colaboratory.intrinsic+json": {
              "type": "dataframe",
              "variable_name": "data"
            }
          },
          "metadata": {},
          "execution_count": 53
        }
      ]
    },
    {
      "cell_type": "code",
      "source": [
        "data.info()"
      ],
      "metadata": {
        "colab": {
          "base_uri": "https://localhost:8080/"
        },
        "id": "Fg1GH6WzPuc9",
        "outputId": "63f59b73-34d2-4568-b200-cb7b485eba74"
      },
      "execution_count": 54,
      "outputs": [
        {
          "output_type": "stream",
          "name": "stdout",
          "text": [
            "<class 'pandas.core.frame.DataFrame'>\n",
            "RangeIndex: 4424 entries, 0 to 4423\n",
            "Data columns (total 28 columns):\n",
            " #   Column                                    Non-Null Count  Dtype  \n",
            "---  ------                                    --------------  -----  \n",
            " 0   Estado civil                              4424 non-null   object \n",
            " 1   Migração                                  4424 non-null   object \n",
            " 2   Sexo                                      4424 non-null   object \n",
            " 3   Idade na matrícula                        4424 non-null   int64  \n",
            " 4   Estrangeiro                               4424 non-null   object \n",
            " 5   Necessidades educacionais especiais       4424 non-null   object \n",
            " 6   Devedor                                   4424 non-null   object \n",
            " 7   Taxas de matrícula em dia                 4424 non-null   object \n",
            " 8   Bolsista                                  4424 non-null   object \n",
            " 9   Taxa de desemprego                        4424 non-null   float64\n",
            " 10  Taxa de inflação                          4424 non-null   float64\n",
            " 11  PIB                                       4424 non-null   float64\n",
            " 12  Curso                                     4424 non-null   object \n",
            " 13  Período                                   4424 non-null   object \n",
            " 14  Qualificação prévia                       4424 non-null   object \n",
            " 15  disciplinas 1º semestre (creditadas)      4424 non-null   int64  \n",
            " 16  disciplinas 1º semestre (matriculadas)    4424 non-null   int64  \n",
            " 17  disciplinas 1º semestre (avaliações)      4424 non-null   int64  \n",
            " 18  disciplinas 1º semestre (aprovadas)       4424 non-null   int64  \n",
            " 19  disciplinas 1º semestre (notas)           4424 non-null   float64\n",
            " 20  disciplinas 1º semestre (sem avaliações)  4424 non-null   int64  \n",
            " 21  disciplinas 2º semestre (creditadas)      4424 non-null   int64  \n",
            " 22  disciplinas 2º semestre (matriculadas)    4424 non-null   int64  \n",
            " 23  disciplinas 2º semestre (avaliações)      4424 non-null   int64  \n",
            " 24  disciplinas 2º semestre (aprovadas)       4424 non-null   int64  \n",
            " 25  disciplinas 2º semestre (notas)           4424 non-null   float64\n",
            " 26  disciplinas 2º semestre (sem avaliações)  4424 non-null   int64  \n",
            " 27  Target                                    4424 non-null   object \n",
            "dtypes: float64(5), int64(11), object(12)\n",
            "memory usage: 967.9+ KB\n"
          ]
        }
      ]
    },
    {
      "cell_type": "markdown",
      "source": [
        "# Transforming the data"
      ],
      "metadata": {
        "id": "ZQH6Jpc9WvOn"
      }
    },
    {
      "cell_type": "code",
      "source": [
        "x = data.drop(columns='Target')\n",
        "y = data['Target']"
      ],
      "metadata": {
        "id": "5IsuoVd2dpAj"
      },
      "execution_count": 55,
      "outputs": []
    },
    {
      "cell_type": "code",
      "source": [
        "column_names = x.columns\n",
        "\n",
        "categorical_cols = data.select_dtypes(include=['object']).columns.tolist()\n",
        "categorical_cols.remove('Target')\n",
        "\n",
        "one_hot = make_column_transformer((\n",
        "    OneHotEncoder(drop='if_binary', sparse_output=False),\n",
        "    categorical_cols\n",
        "),\n",
        "  remainder='passthrough',\n",
        "  sparse_threshold=0\n",
        ")\n",
        "\n",
        "x = one_hot.fit_transform(x)"
      ],
      "metadata": {
        "id": "ZZcwAtFKUgeD"
      },
      "execution_count": 56,
      "outputs": []
    },
    {
      "cell_type": "code",
      "source": [
        "enc = LabelEncoder().fit(y)\n",
        "y = enc.transform(y)"
      ],
      "metadata": {
        "id": "OqAptBVzdDkQ"
      },
      "execution_count": 57,
      "outputs": []
    },
    {
      "cell_type": "code",
      "source": [
        "from sklearn.model_selection import train_test_split"
      ],
      "metadata": {
        "id": "bfQFkiNNfsl4"
      },
      "execution_count": 58,
      "outputs": []
    },
    {
      "cell_type": "code",
      "source": [
        "x, x_test, y, y_test = train_test_split(x, y, test_size=0.15, stratify=y, random_state=0)\n",
        "x_train, x_val, y_train, y_val = train_test_split(x, y, stratify=y, random_state=0)"
      ],
      "metadata": {
        "id": "M1XRmHeOfyyf"
      },
      "execution_count": 59,
      "outputs": []
    },
    {
      "cell_type": "markdown",
      "source": [
        "# Training the algorithm"
      ],
      "metadata": {
        "id": "ZCw5-0-JiqhZ"
      }
    },
    {
      "cell_type": "code",
      "source": [
        "from sklearn.ensemble import RandomForestClassifier"
      ],
      "metadata": {
        "id": "ViXwCH5diqID"
      },
      "execution_count": 60,
      "outputs": []
    },
    {
      "cell_type": "code",
      "source": [
        "model = RandomForestClassifier(random_state=0, max_depth=10)\n",
        "model.fit(x_train, y_train)\n",
        "\n",
        "y_pred = model.predict(x_val)"
      ],
      "metadata": {
        "id": "6LYD0M8Ri6Ms"
      },
      "execution_count": 61,
      "outputs": []
    },
    {
      "cell_type": "code",
      "source": [
        "print(f\"Training accuracy: {model.score(x_train, y_train)}\")\n",
        "print(f\"Validation accuracy: {model.score(x_val, y_val)}\")"
      ],
      "metadata": {
        "colab": {
          "base_uri": "https://localhost:8080/"
        },
        "id": "emah413ajIe2",
        "outputId": "f658ba76-5a02-4c5b-869f-49906cdfb02e"
      },
      "execution_count": 62,
      "outputs": [
        {
          "output_type": "stream",
          "name": "stdout",
          "text": [
            "Training accuracy: 0.8964539007092198\n",
            "Validation accuracy: 0.7670212765957447\n"
          ]
        }
      ]
    },
    {
      "cell_type": "markdown",
      "source": [
        "# Confusion matrix"
      ],
      "metadata": {
        "id": "6EW9TFKd4Xzo"
      }
    },
    {
      "cell_type": "code",
      "source": [
        "from sklearn.metrics import confusion_matrix, ConfusionMatrixDisplay"
      ],
      "metadata": {
        "id": "h8ugG0mj4WPX"
      },
      "execution_count": 63,
      "outputs": []
    },
    {
      "cell_type": "code",
      "source": [
        "ConfusionMatrixDisplay.from_predictions(y_val, y_pred, normalize='true', cmap='Blues', display_labels=['Desistente', 'Graduado', 'Matriculado']);"
      ],
      "metadata": {
        "colab": {
          "base_uri": "https://localhost:8080/",
          "height": 449
        },
        "id": "b8FaZfAu4W11",
        "outputId": "9d39b758-5ba1-451b-c7be-0bd11e2b5d2c"
      },
      "execution_count": 75,
      "outputs": [
        {
          "output_type": "display_data",
          "data": {
            "text/plain": [
              "<Figure size 640x480 with 2 Axes>"
            ],
            "image/png": "[encoded data removed]"
          },
          "metadata": {}
        }
      ]
    },
    {
      "cell_type": "markdown",
      "source": [
        "# Classification report"
      ],
      "metadata": {
        "id": "FaG50ir89Lwx"
      }
    },
    {
      "cell_type": "code",
      "source": [
        "from sklearn.metrics import classification_report"
      ],
      "metadata": {
        "id": "Y5u20iO09OUi"
      },
      "execution_count": 77,
      "outputs": []
    },
    {
      "cell_type": "code",
      "source": [
        "report = classification_report(y_val, y_pred, target_names = ['Desistente', 'Graduado', 'Matriculado'])\n",
        "print(report)"
      ],
      "metadata": {
        "colab": {
          "base_uri": "https://localhost:8080/"
        },
        "id": "1wRez2xM9Rbh",
        "outputId": "4892e70c-336a-4948-cd4e-37dc13059dec"
      },
      "execution_count": 81,
      "outputs": [
        {
          "output_type": "stream",
          "name": "stdout",
          "text": [
            "              precision    recall  f1-score   support\n",
            "\n",
            "  Desistente       0.81      0.75      0.78       302\n",
            "    Graduado       0.77      0.96      0.85       469\n",
            " Matriculado       0.58      0.25      0.35       169\n",
            "\n",
            "    accuracy                           0.77       940\n",
            "   macro avg       0.72      0.66      0.66       940\n",
            "weighted avg       0.75      0.77      0.74       940\n",
            "\n"
          ]
        }
      ]
    },
    {
      "cell_type": "markdown",
      "source": [
        "# Balancing the data using SMOTE"
      ],
      "metadata": {
        "id": "QRtyhSBb-usF"
      }
    },
    {
      "cell_type": "code",
      "source": [
        "from imblearn.over_sampling import SMOTE"
      ],
      "metadata": {
        "id": "8pFeWghu9XfL"
      },
      "execution_count": 82,
      "outputs": []
    },
    {
      "cell_type": "code",
      "source": [
        "oversample = SMOTE(random_state=0)\n",
        "x_balanced, y_balanced = oversample.fit_resample(x_train, y_train)"
      ],
      "metadata": {
        "id": "rXDAagIf-5VP"
      },
      "execution_count": 83,
      "outputs": []
    },
    {
      "cell_type": "code",
      "source": [
        "model = RandomForestClassifier(random_state=0, max_depth=10)\n",
        "model.fit(x_balanced, y_balanced)\n",
        "\n",
        "y_pred = model.predict(x_val)"
      ],
      "metadata": {
        "id": "zd8l-Bx6_GbA"
      },
      "execution_count": 90,
      "outputs": []
    },
    {
      "cell_type": "code",
      "source": [
        "report = classification_report(y_val, y_pred, target_names = ['Desistente', 'Graduado', 'Matriculado'])\n",
        "print(report)\n",
        "ConfusionMatrixDisplay.from_predictions(y_val, y_pred, normalize='true', cmap='Blues', display_labels=['Desistente', 'Graduado', 'Matriculado']);"
      ],
      "metadata": {
        "colab": {
          "base_uri": "https://localhost:8080/",
          "height": 623
        },
        "id": "oZzO7R7o_J5h",
        "outputId": "906c5551-cbca-4cd9-8acc-2f639d10f5e5"
      },
      "execution_count": 91,
      "outputs": [
        {
          "output_type": "stream",
          "name": "stdout",
          "text": [
            "              precision    recall  f1-score   support\n",
            "\n",
            "  Desistente       0.85      0.74      0.79       302\n",
            "    Graduado       0.82      0.88      0.85       469\n",
            " Matriculado       0.50      0.51      0.51       169\n",
            "\n",
            "    accuracy                           0.77       940\n",
            "   macro avg       0.72      0.71      0.71       940\n",
            "weighted avg       0.77      0.77      0.77       940\n",
            "\n"
          ]
        },
        {
          "output_type": "display_data",
          "data": {
            "text/plain": [
              "<Figure size 640x480 with 2 Axes>"
            ],
            "image/png": "[encoded data removed]"
          },
          "metadata": {}
        }
      ]
    }
  ]
}